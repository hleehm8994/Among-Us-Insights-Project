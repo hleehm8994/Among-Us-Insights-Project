{
  "cells": [
    {
      "cell_type": "markdown",
      "id": "83904802",
      "metadata": {
        "id": "83904802"
      },
      "source": [
        "# Create Database"
      ]
    },
    {
      "cell_type": "code",
      "execution_count": null,
      "id": "1f72d9d9",
      "metadata": {
        "id": "1f72d9d9"
      },
      "outputs": [],
      "source": [
        "import sqlite3\n",
        "import pandas as pd\n",
        "from datetime import datetime\n",
        "from difflib import SequenceMatcher\n",
        "import matplotlib.pyplot as plt\n",
        "import seaborn as sns\n",
        "import numpy as np"
      ]
    },
    {
      "cell_type": "code",
      "source": [
        "from google.colab import files\n",
        "uploaded = files.upload()"
      ],
      "metadata": {
        "id": "3804XQPqUA7F"
      },
      "id": "3804XQPqUA7F",
      "execution_count": null,
      "outputs": []
    },
    {
      "cell_type": "code",
      "execution_count": null,
      "id": "85d54fd9",
      "metadata": {
        "id": "85d54fd9"
      },
      "outputs": [],
      "source": [
        "conn = sqlite3.connect ('Among Us 1.db')\n",
        "cursor = conn.cursor()"
      ]
    },
    {
      "cell_type": "code",
      "source": [
        "# Get a list of all tables in the database\n",
        "cursor.execute(\"SELECT name FROM sqlite_master WHERE type='table';\")\n",
        "tables = cursor.fetchall()\n",
        "\n",
        "# Print the list of table names\n",
        "for table in tables:\n",
        "    print(table[0])"
      ],
      "metadata": {
        "id": "z7bimWMQHooh"
      },
      "id": "z7bimWMQHooh",
      "execution_count": null,
      "outputs": []
    },
    {
      "cell_type": "markdown",
      "id": "4a11303d",
      "metadata": {
        "id": "4a11303d"
      },
      "source": [
        "#  Create Tables"
      ]
    },
    {
      "cell_type": "code",
      "execution_count": null,
      "id": "2b8bfe02",
      "metadata": {
        "id": "2b8bfe02"
      },
      "outputs": [],
      "source": [
        "# List of table names to drop\n",
        "tables_to_drop = [\n",
        "    'map_dimension',\n",
        "    'role_dimension',\n",
        "    'task_dimension',\n",
        "    'review_fact',\n",
        "    'user_dimension',\n",
        "    'location_dimension',\n",
        "    'avatar_fact',\n",
        "    'transaction_fact',\n",
        "    'sessions_fact',\n",
        "    'datetime_dimension',\n",
        "    'product_dimension',\n",
        "    'producttype_dimension',\n",
        "    'currency_dimension',\n",
        "    'version_fact',\n",
        "    'gamehistory_fact'\n",
        "]\n",
        "\n",
        "# Drop each table\n",
        "for table in tables_to_drop:\n",
        "    cursor.execute(f\"DROP TABLE IF EXISTS {table};\")\n",
        "\n",
        "conn.commit()"
      ]
    },
    {
      "cell_type": "code",
      "source": [
        "# Get a list of all tables in the database\n",
        "cursor.execute(\"SELECT name FROM sqlite_master WHERE type='table';\")\n",
        "tables = cursor.fetchall()\n",
        "\n",
        "# Print the list of table names\n",
        "for table in tables:\n",
        "    print(table[0])"
      ],
      "metadata": {
        "id": "xiRlTx_bHxe4"
      },
      "id": "xiRlTx_bHxe4",
      "execution_count": null,
      "outputs": []
    },
    {
      "cell_type": "code",
      "execution_count": null,
      "id": "ff6a27a3",
      "metadata": {
        "id": "ff6a27a3"
      },
      "outputs": [],
      "source": [
        "#gamehistory_fact\n",
        "create_table_query = \"\"\" CREATE TABLE  gamehistory_fact\n",
        "(user_id INTEGER NOT NULL,\n",
        "map_id INTEGER NOT NULL,\n",
        "role_id INTEGER NOT NULL,\n",
        "task_id INTEGER NOT NULL,\n",
        "start_date_id INTEGER NOT NULL,\n",
        "end_date_id INTEGER NOT NULL ,\n",
        "win_loss INTEGER NOT NULL CHECK(win_loss = 0 OR win_loss = 1),\n",
        "FOREIGN KEY (user_id) REFERENCES user_dimension(user_id),\n",
        "FOREIGN KEY (map_id) REFERENCES map_dimension(map_id),\n",
        "FOREIGN KEY (role_id) REFERENCES role_dimension(role_id),\n",
        "FOREIGN KEY (task_id) REFERENCES task_dimension(task_id),\n",
        "FOREIGN KEY (start_date_id) REFERENCES datetime_dimension(date_id),\n",
        "FOREIGN KEY (end_date_id) REFERENCES datetime_dimension(date_id))\n",
        "\"\"\"\n",
        "\n",
        "cursor.execute(create_table_query)\n",
        "conn.commit()"
      ]
    },
    {
      "cell_type": "code",
      "execution_count": null,
      "id": "d44e905f",
      "metadata": {
        "id": "d44e905f"
      },
      "outputs": [],
      "source": [
        "#map_dimension\n",
        "create_table_query = \"\"\" CREATE TABLE  map_dimension\n",
        "(map_id INTEGER PRIMARY KEY,\n",
        "map_name TEXT NOT NULL)\"\"\"\n",
        "\n",
        "cursor.execute(create_table_query)\n",
        "conn.commit()"
      ]
    },
    {
      "cell_type": "code",
      "execution_count": null,
      "id": "cca6a687",
      "metadata": {
        "id": "cca6a687"
      },
      "outputs": [],
      "source": [
        "#role_dimension\n",
        "create_table_query = \"\"\" CREATE TABLE  role_dimension\n",
        "(role_id INTEGER PRIMARY KEY,\n",
        "role_name TEXT NOT NULL)\"\"\"\n",
        "\n",
        "cursor.execute(create_table_query)\n",
        "conn.commit()"
      ]
    },
    {
      "cell_type": "code",
      "execution_count": null,
      "id": "03afcb35",
      "metadata": {
        "id": "03afcb35"
      },
      "outputs": [],
      "source": [
        "#task_dimension\n",
        "create_table_query = \"\"\" CREATE TABLE  task_dimension\n",
        "(task_id INTEGER PRIMARY KEY,\n",
        "task_name TEXT NOT NULL)\"\"\"\n",
        "\n",
        "cursor.execute(create_table_query)\n",
        "conn.commit()"
      ]
    },
    {
      "cell_type": "code",
      "execution_count": null,
      "id": "d2e5866d",
      "metadata": {
        "id": "d2e5866d"
      },
      "outputs": [],
      "source": [
        "#review_dimension\n",
        "create_table_query = \"\"\" CREATE TABLE  review_fact\n",
        "(user_id INTEGER NOT NULL,\n",
        "date_id INTEGER NOT NULL,\n",
        "review_platform TEXT NOT NULL,\n",
        "rating INTEGER NOT NULL,\n",
        "review_details TEXT NOT NULL,\n",
        "FOREIGN KEY (user_id) REFERENCES user_dimension(user_id),\n",
        "FOREIGN KEY (date_id) REFERENCES date_dimension(date_id))\"\"\"\n",
        "\n",
        "cursor.execute(create_table_query)\n",
        "conn.commit()"
      ]
    },
    {
      "cell_type": "code",
      "execution_count": null,
      "id": "080391bd",
      "metadata": {
        "id": "080391bd"
      },
      "outputs": [],
      "source": [
        "#user_dimension\n",
        "create_table_query = \"\"\" CREATE TABLE  user_dimension\n",
        "(user_id INTEGER PRIMARY KEY,\n",
        "username TEXT NOT NULL,\n",
        "device TEXT NOT NULL,\n",
        "level INTEGER NOT NULL,\n",
        "location_id INTEGER NOT NULL,\n",
        "language TEXT NOT NULL,\n",
        "login_method TEXT NOT NULL,\n",
        "email TEXT NOT NULL,\n",
        "joined_date_id INTEGER NOT NULL,\n",
        "FOREIGN KEY (location_id) REFERENCES location_dimension(location_id)\n",
        "FOREIGN KEY (joined_date_id) REFERENCES date_dimension(date_id))\"\"\"\n",
        "\n",
        "cursor.execute(create_table_query)\n",
        "conn.commit()"
      ]
    },
    {
      "cell_type": "code",
      "execution_count": null,
      "id": "b074675a",
      "metadata": {
        "id": "b074675a"
      },
      "outputs": [],
      "source": [
        "#location_dimension\n",
        "create_table_query = \"\"\" CREATE TABLE  location_dimension\n",
        "(location_id INTEGER PRIMARY KEY,\n",
        "country TEXT NOT NULL,\n",
        "region TEXT NOT NULL,\n",
        "city TEXT NOT NULL)\"\"\"\n",
        "\n",
        "cursor.execute(create_table_query)\n",
        "conn.commit()"
      ]
    },
    {
      "cell_type": "code",
      "execution_count": null,
      "id": "6f6b8b8a",
      "metadata": {
        "id": "6f6b8b8a"
      },
      "outputs": [],
      "source": [
        "#avatar_fact\n",
        "create_table_query = \"\"\" CREATE TABLE  avatar_fact\n",
        "(user_id INTEGER NOT NULL,\n",
        "color_productid INTEGER NOT NULL,\n",
        "hat_productid INTEGER NOT NULL,\n",
        "pet_productid INTEGER NOT NULL,\n",
        "skin_productid INTEGER NOT NULL,\n",
        "FOREIGN KEY (user_id) REFERENCES user_dimension(user_id))\"\"\"\n",
        "\n",
        "cursor.execute(create_table_query)\n",
        "conn.commit()"
      ]
    },
    {
      "cell_type": "code",
      "execution_count": null,
      "id": "19def409",
      "metadata": {
        "id": "19def409"
      },
      "outputs": [],
      "source": [
        "#transaction_fact\n",
        "create_table_query = \"\"\" CREATE TABLE transaction_fact\n",
        "(transaction_id INTEGER NOT NULL,\n",
        "user_id INTEGER NOT NULL,\n",
        "product_id INTEGER NOT NULL,\n",
        "transaction_date_id INTEGER NOT NULL,\n",
        "amount FLOAT NOT NULL,\n",
        "payment_type TEXT NOT NULL,\n",
        "currency_id INTEGER NOT NULL,\n",
        "FOREIGN KEY (user_id) REFERENCES user_dimension(user_id),\n",
        "FOREIGN KEY (transaction_date_id) REFERENCES datetime_dimension(date_id),\n",
        "FOREIGN KEY (product_id) REFERENCES product_dimension(product_id))\"\"\"\n",
        "\n",
        "cursor.execute(create_table_query)\n",
        "conn.commit()"
      ]
    },
    {
      "cell_type": "code",
      "execution_count": null,
      "id": "295013d9",
      "metadata": {
        "id": "295013d9"
      },
      "outputs": [],
      "source": [
        "#sessions_fact\n",
        "create_table_query = \"\"\" CREATE TABLE  sessions_fact\n",
        "(user_id INTEGER NOT NULL,\n",
        "start_date_id INTEGER NOT NULL,\n",
        "end_date_id INTEGER NOT NULL,\n",
        "FOREIGN KEY (user_id) REFERENCES user_dimension(user_id),\n",
        "FOREIGN KEY (start_date_id) REFERENCES date_dimension(date_id),\n",
        "FOREIGN KEY (end_date_id) REFERENCES date_dimension(date_id))\"\"\"\n",
        "\n",
        "cursor.execute(create_table_query)\n",
        "conn.commit()"
      ]
    },
    {
      "cell_type": "code",
      "execution_count": null,
      "id": "92a88a86",
      "metadata": {
        "id": "92a88a86"
      },
      "outputs": [],
      "source": [
        "#datetime_dimension\n",
        "create_table_query = \"\"\" CREATE TABLE  datetime_dimension\n",
        "(date_id INTEGER PRIMARY KEY AUTOINCREMENT,\n",
        "year INTEGER NOT NULL,\n",
        "month INTEGER NOT NULL,\n",
        "day INTEGER NOT NULL,\n",
        "time DATETIME NOT NULL)\n",
        "\"\"\"\n",
        "\n",
        "cursor.execute(create_table_query)\n",
        "conn.commit()"
      ]
    },
    {
      "cell_type": "code",
      "execution_count": null,
      "id": "9c8fe6e0",
      "metadata": {
        "id": "9c8fe6e0"
      },
      "outputs": [],
      "source": [
        "#product_dimension\n",
        "create_table_query = \"\"\" CREATE TABLE  product_dimension\n",
        "(product_id INTEGER PRIMARY KEY,\n",
        "product_name TEXT NOT NULL,\n",
        "release_date_id INTEGER NOT NULL,\n",
        "producttype_id INTEGER NOT NULL,\n",
        "price_usd FLOAT NOT NULL,\n",
        "FOREIGN KEY (release_date_id) REFERENCES datetime_dimension(date_id),\n",
        "FOREIGN KEY (producttype_id) REFERENCES productype_dimension(producttype_id))\n",
        "\"\"\"\n",
        "\n",
        "cursor.execute(create_table_query)\n",
        "conn.commit()"
      ]
    },
    {
      "cell_type": "code",
      "execution_count": null,
      "id": "49b393b8",
      "metadata": {
        "id": "49b393b8"
      },
      "outputs": [],
      "source": [
        "#producttype_dimension\n",
        "create_table_query = \"\"\" CREATE TABLE  producttype_dimension\n",
        "(producttype_id INTEGER PRIMARY KEY,\n",
        "producttype TEXT NOT NULL)\n",
        "\"\"\"\n",
        "\n",
        "cursor.execute(create_table_query)\n",
        "conn.commit()"
      ]
    },
    {
      "cell_type": "code",
      "execution_count": null,
      "id": "451bfe3c",
      "metadata": {
        "id": "451bfe3c"
      },
      "outputs": [],
      "source": [
        "#currency_dimension\n",
        "create_table_query = \"\"\" CREATE TABLE  currency_dimension\n",
        "(currency_id INTEGER PRIMARY KEY,\n",
        "currency TEXT NOT NULL,\n",
        "exchange_rate FLOAT NOT NULL)\n",
        "\"\"\"\n",
        "\n",
        "cursor.execute(create_table_query)\n",
        "conn.commit()"
      ]
    },
    {
      "cell_type": "code",
      "execution_count": null,
      "id": "d58ea958",
      "metadata": {
        "id": "d58ea958"
      },
      "outputs": [],
      "source": [
        "#version_fact\n",
        "create_table_query = \"\"\" CREATE TABLE  version_fact\n",
        "(version_id INTEGER NOT NULL,\n",
        "date_id INTEGER NOT NULL,\n",
        "map_id INTEGER NOT NULL,\n",
        "role_id INTEGER NOT NULL,\n",
        "task_id INTEGER NOT NULL,\n",
        "update_detail TEXT NOT NULL,\n",
        "FOREIGN KEY (date_id) REFERENCES date_dimension(date_id),\n",
        "FOREIGN KEY (map_id) REFERENCES map_dimension(map_id),\n",
        "FOREIGN KEY (role_id) REFERENCES role_dimension(role_id),\n",
        "FOREIGN KEY (task_id) REFERENCES task_dimension(task_id))\"\"\"\n",
        "\n",
        "cursor.execute(create_table_query)\n",
        "conn.commit()"
      ]
    },
    {
      "cell_type": "code",
      "source": [
        "# Get a list of all tables in the database\n",
        "cursor.execute(\"SELECT name FROM sqlite_master WHERE type='table';\")\n",
        "tables = cursor.fetchall()\n",
        "\n",
        "# Print the list of table names\n",
        "for table in tables:\n",
        "    print(table[0])"
      ],
      "metadata": {
        "id": "YjV90YapIZN7"
      },
      "id": "YjV90YapIZN7",
      "execution_count": null,
      "outputs": []
    },
    {
      "cell_type": "markdown",
      "id": "c40d254d",
      "metadata": {
        "id": "c40d254d"
      },
      "source": [
        "# Trigger Creation"
      ]
    },
    {
      "cell_type": "code",
      "execution_count": null,
      "id": "3e40a220",
      "metadata": {
        "id": "3e40a220"
      },
      "outputs": [],
      "source": [
        "create_trigger ='''CREATE TRIGGER validate_email_before_insert_leads\n",
        "   BEFORE INSERT ON user_dimension\n",
        "BEGIN\n",
        "   SELECT\n",
        "      CASE\n",
        "\tWHEN NEW.email NOT LIKE '%_@__%.__%' THEN\n",
        "   \t  RAISE (ABORT,'Invalid email address')\n",
        "       END;\n",
        "END;'''\n",
        "\n",
        "cursor.execute(create_trigger)\n",
        "conn.commit()"
      ]
    },
    {
      "cell_type": "code",
      "execution_count": null,
      "id": "aad64c65",
      "metadata": {
        "id": "aad64c65"
      },
      "outputs": [],
      "source": [
        "#test trigger\n",
        "insert_record_query = \"\"\" INSERT INTO user_dimension\n",
        "(user_id, username, device, level, location_id, language, login_method, email, joined_date_id)\n",
        "VALUES\n",
        "('3','anna','iOS','10','1','English','appleid','anna.sun@email.com','4')\"\"\"\n",
        "cursor.execute(insert_record_query)\n",
        "conn.commit()"
      ]
    },
    {
      "cell_type": "code",
      "execution_count": null,
      "id": "c22fa3e5",
      "metadata": {
        "id": "c22fa3e5"
      },
      "outputs": [],
      "source": [
        "create_trigger2='''CREATE TRIGGER price_not_less_than_0\n",
        "    BEFORE INSERT ON transaction_fact\n",
        "  BEGIN\n",
        "    SELECT\n",
        "      CASE\n",
        "    WHEN NEW.amount < 0 THEN\n",
        "    RAISE (ABORT,'INVALID_AMOUNT')\n",
        "    END;\n",
        "END;'''\n",
        "cursor.execute(create_trigger2)\n",
        "conn.commit()"
      ]
    },
    {
      "cell_type": "code",
      "execution_count": null,
      "id": "4e85eedb",
      "metadata": {
        "id": "4e85eedb"
      },
      "outputs": [],
      "source": [
        "# test trigger 2\n",
        "insert_record_query2 = \"\"\" INSERT or IGNORE INTO transaction_fact\n",
        "(transaction_id, user_id, product_id, transaction_date_id, amount, payment_type, currency_id)\n",
        "VALUES\n",
        "(1234,5,3456,345,556,'cash',12)\"\"\"\n",
        "cursor.execute(insert_record_query2)\n",
        "conn.commit()"
      ]
    },
    {
      "cell_type": "code",
      "execution_count": null,
      "id": "1b65f7c4",
      "metadata": {
        "id": "1b65f7c4"
      },
      "outputs": [],
      "source": [
        "CREATE_TRIGGER3 = '''CREATE TRIGGER price_usd_not_less_than_0\n",
        "BEFORE INSERT ON product_dimension\n",
        "  BEGIN\n",
        "    SELECT\n",
        "      CASE\n",
        "WHEN NEW.price_usd < 0 THEN\n",
        "  RAISE (ABORT,’INVAILD_PRICE’)\n",
        "  END;\n",
        "END; '''\n",
        "cursor.execute(CREATE_TRIGGER3)\n",
        "conn.commit()"
      ]
    },
    {
      "cell_type": "code",
      "execution_count": null,
      "id": "aac6e50b",
      "metadata": {
        "id": "aac6e50b"
      },
      "outputs": [],
      "source": [
        "#test trigger3\n",
        "insert_record_query3 = \"\"\" INSERT INTO product_dimension\n",
        "(product_id, product_name, release_date_id, producttype_id, price_usd)\n",
        "VALUES\n",
        "('123','hat','0208','001','10')\"\"\"\n",
        "cursor.execute(insert_record_query3)\n",
        "conn.commit()"
      ]
    },
    {
      "cell_type": "code",
      "execution_count": null,
      "id": "cc5bd134",
      "metadata": {
        "id": "cc5bd134"
      },
      "outputs": [],
      "source": [
        "CREATE_TRIGGER4 = '''CREATE TRIGGER rating_not_less_than_0\n",
        "BEFORE INSERT ON review_fact\n",
        "BEGIN\n",
        "SELECT\n",
        "CASE\n",
        "WHEN NEW.rating < 0 and NEW.rating > 5 THEN\n",
        "RAISE (ABORT,’INVAILD_Rate’)\n",
        "END;\n",
        "END; '''\n",
        "cursor.execute(CREATE_TRIGGER4)\n",
        "conn.commit()"
      ]
    },
    {
      "cell_type": "code",
      "execution_count": null,
      "id": "cf2cf571",
      "metadata": {
        "id": "cf2cf571"
      },
      "outputs": [],
      "source": [
        "#test trigger4\n",
        "insert_record_query4 = \"\"\" INSERT INTO review_fact\n",
        "(user_id, date_id, review_platform, rating, review_details)\n",
        "VALUES\n",
        "(123,0208,'Test',4,5)\"\"\"\n",
        "cursor.execute(insert_record_query4)\n",
        "conn.commit()"
      ]
    },
    {
      "cell_type": "markdown",
      "id": "9acb9283",
      "metadata": {
        "id": "9acb9283"
      },
      "source": [
        "# Insert Game_history, Map, Role, Task Data"
      ]
    },
    {
      "cell_type": "markdown",
      "id": "5a9032d4",
      "metadata": {
        "id": "5a9032d4"
      },
      "source": [
        "### Read CSV"
      ]
    },
    {
      "cell_type": "code",
      "source": [
        "uploaded = files.upload()"
      ],
      "metadata": {
        "id": "jkOTcH3JU9yz"
      },
      "id": "jkOTcH3JU9yz",
      "execution_count": null,
      "outputs": []
    },
    {
      "cell_type": "code",
      "execution_count": null,
      "id": "4fdbcfc5",
      "metadata": {
        "id": "4fdbcfc5"
      },
      "outputs": [],
      "source": [
        "gh = pd.read_csv('game_history.csv')"
      ]
    },
    {
      "cell_type": "code",
      "execution_count": null,
      "id": "1c1bfe5b",
      "metadata": {
        "id": "1c1bfe5b"
      },
      "outputs": [],
      "source": [
        "gh"
      ]
    },
    {
      "cell_type": "code",
      "execution_count": null,
      "id": "IWjCEkSZ9S30",
      "metadata": {
        "id": "IWjCEkSZ9S30"
      },
      "outputs": [],
      "source": [
        "gh['start_year'] = pd.DatetimeIndex(gh['start_date']).year\n",
        "gh['start_month'] = pd.DatetimeIndex(gh['start_date']).month\n",
        "gh['start_day'] = pd.DatetimeIndex(gh['start_date']).day\n",
        "gh['start_time'] = pd.DatetimeIndex(gh['start_date']).time\n",
        "gh.head()"
      ]
    },
    {
      "cell_type": "code",
      "execution_count": null,
      "id": "916Rasrr_vQq",
      "metadata": {
        "id": "916Rasrr_vQq"
      },
      "outputs": [],
      "source": [
        "gh['end_year'] = pd.DatetimeIndex(gh['end_date']).year\n",
        "gh['end_month'] = pd.DatetimeIndex(gh['end_date']).month\n",
        "gh['end_day'] = pd.DatetimeIndex(gh['end_date']).day\n",
        "gh['end_time'] = pd.DatetimeIndex(gh['end_date']).time\n",
        "gh.head()"
      ]
    },
    {
      "cell_type": "code",
      "execution_count": null,
      "id": "3ecf6f04",
      "metadata": {
        "id": "3ecf6f04"
      },
      "outputs": [],
      "source": [
        "gh_fact = gh[['user_id', 'map_id', 'role_id', 'task_id', 'start_date_id' ,'end_date_id' ,'win_loss']]"
      ]
    },
    {
      "cell_type": "code",
      "execution_count": null,
      "id": "b676750e",
      "metadata": {
        "id": "b676750e"
      },
      "outputs": [],
      "source": [
        "map_dimension = gh[['map_id', 'map_name']].drop_duplicates()\n",
        "map_dimension"
      ]
    },
    {
      "cell_type": "code",
      "execution_count": null,
      "id": "35add8c5",
      "metadata": {
        "id": "35add8c5"
      },
      "outputs": [],
      "source": [
        "role_dimension = gh[['role_id', 'role_name']].drop_duplicates()\n",
        "role_dimension"
      ]
    },
    {
      "cell_type": "code",
      "execution_count": null,
      "id": "6feabf9e",
      "metadata": {
        "id": "6feabf9e"
      },
      "outputs": [],
      "source": [
        "task_dimension = gh[['task_id', 'task_name']].drop_duplicates()\n",
        "task_dimension"
      ]
    },
    {
      "cell_type": "code",
      "execution_count": null,
      "id": "288d2e65",
      "metadata": {
        "id": "288d2e65"
      },
      "outputs": [],
      "source": [
        "start_date = gh[['start_date_id' , 'start_year' ,\t'start_month',\t'start_day',\t'start_time']].drop_duplicates()\n",
        "end_date = gh[['end_date_id' ,\t'end_year', 'end_month', 'end_day', 'end_time']].drop_duplicates()\n",
        "end_date"
      ]
    },
    {
      "cell_type": "code",
      "execution_count": null,
      "id": "UioM_1uwA5pz",
      "metadata": {
        "id": "UioM_1uwA5pz"
      },
      "outputs": [],
      "source": [
        "start_date"
      ]
    },
    {
      "cell_type": "markdown",
      "id": "ce461e5c",
      "metadata": {
        "id": "ce461e5c"
      },
      "source": [
        "### Transform data to string & Tuple"
      ]
    },
    {
      "cell_type": "code",
      "execution_count": null,
      "id": "21533abe",
      "metadata": {
        "id": "21533abe"
      },
      "outputs": [],
      "source": [
        "gh_fact = gh_fact.astype(str)\n",
        "gh_fact = gh_fact.to_records(index=False)"
      ]
    },
    {
      "cell_type": "code",
      "execution_count": null,
      "id": "38e7889b",
      "metadata": {
        "id": "38e7889b"
      },
      "outputs": [],
      "source": [
        "map_dimension = map_dimension.astype(str)\n",
        "map_dimension = map_dimension.to_records(index=False)"
      ]
    },
    {
      "cell_type": "code",
      "execution_count": null,
      "id": "5650a31f",
      "metadata": {
        "id": "5650a31f"
      },
      "outputs": [],
      "source": [
        "role_dimension = role_dimension.astype(str)\n",
        "role_dimension = role_dimension.to_records(index=False)"
      ]
    },
    {
      "cell_type": "code",
      "execution_count": null,
      "id": "045b97aa",
      "metadata": {
        "id": "045b97aa"
      },
      "outputs": [],
      "source": [
        "task_dimension = task_dimension.astype(str)\n",
        "task_dimension = task_dimension.to_records(index=False)"
      ]
    },
    {
      "cell_type": "code",
      "execution_count": null,
      "id": "2b4001c3",
      "metadata": {
        "id": "2b4001c3"
      },
      "outputs": [],
      "source": [
        "start_date = start_date.astype(str)\n",
        "start_date = start_date.to_records(index=False)\n",
        "end_date = end_date.astype(str)\n",
        "end_date = end_date.to_records(index=False)"
      ]
    },
    {
      "cell_type": "markdown",
      "id": "999794ff",
      "metadata": {
        "id": "999794ff"
      },
      "source": [
        "### Data Insertion"
      ]
    },
    {
      "cell_type": "code",
      "execution_count": null,
      "id": "bdc2eceb",
      "metadata": {
        "id": "bdc2eceb"
      },
      "outputs": [],
      "source": [
        "def insert_gh(recordList):\n",
        "    insert_gh_query = \"\"\" INSERT INTO gamehistory_fact\n",
        "    (user_id, map_id, role_id, task_id, start_date_id ,end_date_id ,win_loss) VALUES (?, ?, ?, ?, ?, ?, ?)\"\"\"\n",
        "    cursor.executemany(insert_gh_query, recordList)\n",
        "    conn.commit()\n",
        "    print('New data inserted successfully')"
      ]
    },
    {
      "cell_type": "code",
      "execution_count": null,
      "id": "3e0db1f6",
      "metadata": {
        "id": "3e0db1f6"
      },
      "outputs": [],
      "source": [
        "insert_gh(gh_fact)"
      ]
    },
    {
      "cell_type": "code",
      "execution_count": null,
      "id": "77f11750",
      "metadata": {
        "id": "77f11750"
      },
      "outputs": [],
      "source": [
        "def insert_map(recordList):\n",
        "    insert_query = \"\"\" INSERT INTO map_dimension\n",
        "    (map_id, map_name) VALUES (?, ?)\"\"\"\n",
        "    cursor.executemany(insert_query, recordList)\n",
        "    conn.commit()\n",
        "    print('New data inserted successfully')"
      ]
    },
    {
      "cell_type": "code",
      "execution_count": null,
      "id": "4966980d",
      "metadata": {
        "id": "4966980d"
      },
      "outputs": [],
      "source": [
        "insert_map(map_dimension)"
      ]
    },
    {
      "cell_type": "code",
      "execution_count": null,
      "id": "2f8ec34f",
      "metadata": {
        "id": "2f8ec34f"
      },
      "outputs": [],
      "source": [
        "def insert_role(recordList):\n",
        "    insert_query = \"\"\" INSERT INTO role_dimension\n",
        "    (role_id, role_name) VALUES (?, ?)\"\"\"\n",
        "    cursor.executemany(insert_query, recordList)\n",
        "    conn.commit()\n",
        "    print('New data inserted successfully')"
      ]
    },
    {
      "cell_type": "code",
      "execution_count": null,
      "id": "7ab79cca",
      "metadata": {
        "id": "7ab79cca"
      },
      "outputs": [],
      "source": [
        "insert_role(role_dimension)"
      ]
    },
    {
      "cell_type": "code",
      "execution_count": null,
      "id": "3a368360",
      "metadata": {
        "id": "3a368360"
      },
      "outputs": [],
      "source": [
        "def insert_task(recordList):\n",
        "    insert_query = \"\"\" INSERT INTO task_dimension\n",
        "    (task_id, task_name) VALUES (?, ?)\"\"\"\n",
        "    cursor.executemany(insert_query, recordList)\n",
        "    conn.commit()\n",
        "    print('New data inserted successfully')"
      ]
    },
    {
      "cell_type": "code",
      "execution_count": null,
      "id": "d989faee",
      "metadata": {
        "id": "d989faee"
      },
      "outputs": [],
      "source": [
        "insert_task(task_dimension)"
      ]
    },
    {
      "cell_type": "code",
      "execution_count": null,
      "id": "1eedea9c",
      "metadata": {
        "id": "1eedea9c"
      },
      "outputs": [],
      "source": [
        "def insert_datetime(recordList):\n",
        "    insert_datetime_query = \"\"\" INSERT INTO datetime_dimension\n",
        "    (date_id, year, month, day, time) VALUES (?, ?, ?, ?, ?)\"\"\"\n",
        "    cursor.executemany(insert_datetime_query, recordList)\n",
        "    conn.commit()\n",
        "    print('New data inserted successfully')"
      ]
    },
    {
      "cell_type": "code",
      "execution_count": null,
      "id": "25d97f98",
      "metadata": {
        "id": "25d97f98"
      },
      "outputs": [],
      "source": [
        "insert_datetime(start_date)\n",
        "insert_datetime(end_date)"
      ]
    },
    {
      "cell_type": "markdown",
      "id": "34b11393",
      "metadata": {
        "id": "34b11393"
      },
      "source": [
        "## Insert Transaction, product, productype, currency"
      ]
    },
    {
      "cell_type": "markdown",
      "id": "ca435eea",
      "metadata": {
        "id": "ca435eea"
      },
      "source": [
        "### Read CSV"
      ]
    },
    {
      "cell_type": "code",
      "source": [
        "uploaded = files.upload()"
      ],
      "metadata": {
        "id": "3CjLltF35DpU"
      },
      "id": "3CjLltF35DpU",
      "execution_count": null,
      "outputs": []
    },
    {
      "cell_type": "code",
      "execution_count": null,
      "id": "175255a7",
      "metadata": {
        "id": "175255a7"
      },
      "outputs": [],
      "source": [
        "transcation = pd.read_csv('transaction.csv')\n",
        "transcation"
      ]
    },
    {
      "cell_type": "code",
      "execution_count": null,
      "id": "6c6320c5",
      "metadata": {
        "id": "6c6320c5"
      },
      "outputs": [],
      "source": [
        "transaction_fact = transcation[['transaction_id', 'user_id', 'product_id', 'transaction_date_id', 'amount', 'payment_type', 'currency_id']]"
      ]
    },
    {
      "cell_type": "code",
      "execution_count": null,
      "id": "d0bdfd76",
      "metadata": {
        "id": "d0bdfd76"
      },
      "outputs": [],
      "source": [
        "product_dimension = transcation[['product_id', 'product_name','release_date_id', 'producttype_id', 'price_usd']].drop_duplicates()"
      ]
    },
    {
      "cell_type": "code",
      "execution_count": null,
      "id": "d33ce1a9",
      "metadata": {
        "id": "d33ce1a9"
      },
      "outputs": [],
      "source": [
        "producttype_dimension = transcation[['producttype_id', 'producttype']].drop_duplicates()"
      ]
    },
    {
      "cell_type": "code",
      "execution_count": null,
      "id": "259acdaa",
      "metadata": {
        "id": "259acdaa"
      },
      "outputs": [],
      "source": [
        "currency_dimension = transcation[['currency_id', 'currency', 'exchange_rate']].drop_duplicates()"
      ]
    },
    {
      "cell_type": "markdown",
      "id": "a01af95d",
      "metadata": {
        "id": "a01af95d"
      },
      "source": [
        "### Transform Data"
      ]
    },
    {
      "cell_type": "code",
      "execution_count": null,
      "id": "79c651ab",
      "metadata": {
        "id": "79c651ab"
      },
      "outputs": [],
      "source": [
        "transaction_fact = transaction_fact.astype(str)\n",
        "transaction_fact = transaction_fact.to_records(index=False)"
      ]
    },
    {
      "cell_type": "code",
      "execution_count": null,
      "id": "d3b3c98b",
      "metadata": {
        "id": "d3b3c98b"
      },
      "outputs": [],
      "source": [
        "product_dimension = product_dimension.astype(str)\n",
        "product_dimension = product_dimension.to_records(index=False)"
      ]
    },
    {
      "cell_type": "code",
      "execution_count": null,
      "id": "2f5eb8c0",
      "metadata": {
        "id": "2f5eb8c0"
      },
      "outputs": [],
      "source": [
        "producttype_dimension = producttype_dimension.astype(str)\n",
        "producttype_dimension = producttype_dimension.to_records(index=False)"
      ]
    },
    {
      "cell_type": "code",
      "execution_count": null,
      "id": "bc3739e3",
      "metadata": {
        "id": "bc3739e3"
      },
      "outputs": [],
      "source": [
        "currency_dimension = currency_dimension.astype(str)\n",
        "currency_dimension = currency_dimension.to_records(index=False)"
      ]
    },
    {
      "cell_type": "markdown",
      "id": "90e5f92d",
      "metadata": {
        "id": "90e5f92d"
      },
      "source": [
        "### Data Insertion"
      ]
    },
    {
      "cell_type": "code",
      "execution_count": null,
      "id": "224fb3e6",
      "metadata": {
        "id": "224fb3e6"
      },
      "outputs": [],
      "source": [
        "def insert_transaction(recordList):\n",
        "    insert_transaction_query = \"\"\" INSERT INTO transaction_fact\n",
        "    (transaction_id, user_id, product_id, transaction_date_id, amount, payment_type, currency_id) VALUES (?, ?, ?, ?, ?, ?, ?)\"\"\"\n",
        "    cursor.executemany(insert_transaction_query, recordList)\n",
        "    conn.commit()\n",
        "    print('New data inserted successfully')"
      ]
    },
    {
      "cell_type": "code",
      "execution_count": null,
      "id": "175b5a45",
      "metadata": {
        "id": "175b5a45"
      },
      "outputs": [],
      "source": [
        "insert_transaction(transaction_fact)"
      ]
    },
    {
      "cell_type": "code",
      "execution_count": null,
      "id": "885beede",
      "metadata": {
        "id": "885beede"
      },
      "outputs": [],
      "source": [
        "def insert_product(recordList):\n",
        "    insert_product_query = \"\"\" INSERT INTO product_dimension\n",
        "    (product_id, product_name, release_date_id, producttype_id, price_usd) VALUES (?, ?, ?, ?, ?)\"\"\"\n",
        "    cursor.executemany(insert_product_query, recordList)\n",
        "    conn.commit()\n",
        "    print('New data inserted successfully')"
      ]
    },
    {
      "cell_type": "code",
      "execution_count": null,
      "id": "604c0452",
      "metadata": {
        "id": "604c0452"
      },
      "outputs": [],
      "source": [
        "insert_product(product_dimension)"
      ]
    },
    {
      "cell_type": "code",
      "execution_count": null,
      "id": "628dec1e",
      "metadata": {
        "id": "628dec1e"
      },
      "outputs": [],
      "source": [
        "def insert_producttype(recordList):\n",
        "    insert_producttype_query = \"\"\" INSERT INTO producttype_dimension\n",
        "    (producttype_id, producttype) VALUES (?, ?)\"\"\"\n",
        "    cursor.executemany(insert_producttype_query, recordList)\n",
        "    conn.commit()\n",
        "    print('New data inserted successfully')"
      ]
    },
    {
      "cell_type": "code",
      "execution_count": null,
      "id": "7a6eaf74",
      "metadata": {
        "id": "7a6eaf74"
      },
      "outputs": [],
      "source": [
        "insert_producttype(producttype_dimension)"
      ]
    },
    {
      "cell_type": "code",
      "execution_count": null,
      "id": "03ff291a",
      "metadata": {
        "id": "03ff291a"
      },
      "outputs": [],
      "source": [
        "def insert_currency(recordList):\n",
        "    insert_currency_query = \"\"\" INSERT INTO currency_dimension\n",
        "    (currency_id, currency, exchange_rate) VALUES (?, ?, ?)\"\"\"\n",
        "    cursor.executemany(insert_currency_query, recordList)\n",
        "    conn.commit()\n",
        "    print('New data inserted successfully')"
      ]
    },
    {
      "cell_type": "code",
      "execution_count": null,
      "id": "cd7d15ab",
      "metadata": {
        "id": "cd7d15ab"
      },
      "outputs": [],
      "source": [
        "insert_currency(currency_dimension)"
      ]
    },
    {
      "cell_type": "markdown",
      "id": "c2d1fdb1",
      "metadata": {
        "id": "c2d1fdb1"
      },
      "source": [
        "# Insert avatar, sessions, version, review, user, location"
      ]
    },
    {
      "cell_type": "markdown",
      "id": "b385d42d",
      "metadata": {
        "id": "b385d42d"
      },
      "source": [
        "### Read CSV"
      ]
    },
    {
      "cell_type": "code",
      "source": [
        "uploaded = files.upload()"
      ],
      "metadata": {
        "id": "BTO2mr175PD5"
      },
      "id": "BTO2mr175PD5",
      "execution_count": null,
      "outputs": []
    },
    {
      "cell_type": "code",
      "execution_count": null,
      "id": "8ad2e641",
      "metadata": {
        "id": "8ad2e641"
      },
      "outputs": [],
      "source": [
        "review = pd.read_csv('review.csv')"
      ]
    },
    {
      "cell_type": "code",
      "execution_count": null,
      "id": "8bee7eb0",
      "metadata": {
        "id": "8bee7eb0"
      },
      "outputs": [],
      "source": [
        "review"
      ]
    },
    {
      "cell_type": "code",
      "execution_count": null,
      "id": "f91421a0",
      "metadata": {
        "id": "f91421a0"
      },
      "outputs": [],
      "source": [
        "review_fact = review[['user_id', 'date_id', 'review_platform', 'rating', 'review_details']]"
      ]
    },
    {
      "cell_type": "code",
      "source": [
        "uploaded = files.upload()"
      ],
      "metadata": {
        "id": "agWA6uH25U6S"
      },
      "id": "agWA6uH25U6S",
      "execution_count": null,
      "outputs": []
    },
    {
      "cell_type": "code",
      "execution_count": null,
      "id": "a2513e18",
      "metadata": {
        "id": "a2513e18"
      },
      "outputs": [],
      "source": [
        "avatar = pd.read_csv('avatar.csv')"
      ]
    },
    {
      "cell_type": "code",
      "execution_count": null,
      "id": "fcc81485",
      "metadata": {
        "id": "fcc81485"
      },
      "outputs": [],
      "source": [
        "avatar"
      ]
    },
    {
      "cell_type": "code",
      "execution_count": null,
      "id": "718dbbda",
      "metadata": {
        "id": "718dbbda"
      },
      "outputs": [],
      "source": [
        "avatar_fact = avatar[['user_id', 'color_productid', 'hat_productid', 'pet_productid', 'skin_productid']]"
      ]
    },
    {
      "cell_type": "code",
      "source": [
        "uploaded = files.upload()"
      ],
      "metadata": {
        "id": "HWeJn9P85aQH"
      },
      "id": "HWeJn9P85aQH",
      "execution_count": null,
      "outputs": []
    },
    {
      "cell_type": "code",
      "execution_count": null,
      "id": "b318263f",
      "metadata": {
        "id": "b318263f"
      },
      "outputs": [],
      "source": [
        "sessions = pd.read_csv('sessions.csv')"
      ]
    },
    {
      "cell_type": "code",
      "execution_count": null,
      "id": "6bd0ed3f",
      "metadata": {
        "id": "6bd0ed3f"
      },
      "outputs": [],
      "source": [
        "sessions"
      ]
    },
    {
      "cell_type": "code",
      "execution_count": null,
      "id": "271cd190",
      "metadata": {
        "id": "271cd190"
      },
      "outputs": [],
      "source": [
        "sessions_fact = sessions[['user_id', 'start_date_id', 'end_date_id']]"
      ]
    },
    {
      "cell_type": "code",
      "source": [
        "uploaded = files.upload()"
      ],
      "metadata": {
        "id": "pjnTAIjh5d6I"
      },
      "id": "pjnTAIjh5d6I",
      "execution_count": null,
      "outputs": []
    },
    {
      "cell_type": "code",
      "execution_count": null,
      "id": "823cda9e",
      "metadata": {
        "id": "823cda9e"
      },
      "outputs": [],
      "source": [
        "user = pd.read_csv('user.csv')"
      ]
    },
    {
      "cell_type": "code",
      "execution_count": null,
      "id": "a8a98bac",
      "metadata": {
        "id": "a8a98bac"
      },
      "outputs": [],
      "source": [
        "user"
      ]
    },
    {
      "cell_type": "code",
      "execution_count": null,
      "id": "81d91a3e",
      "metadata": {
        "id": "81d91a3e"
      },
      "outputs": [],
      "source": [
        "user_dimension = user[['user_id', 'username', 'device', 'level', 'location_id', 'language', 'login_method', 'email', 'joined_date_id']]"
      ]
    },
    {
      "cell_type": "code",
      "source": [
        "user_dimension"
      ],
      "metadata": {
        "id": "hT3UhcJ2GzZg"
      },
      "id": "hT3UhcJ2GzZg",
      "execution_count": null,
      "outputs": []
    },
    {
      "cell_type": "code",
      "execution_count": null,
      "id": "497d030d",
      "metadata": {
        "id": "497d030d"
      },
      "outputs": [],
      "source": [
        "location_dimension = user[['location_id', 'country', 'region', 'city']].drop_duplicates()"
      ]
    },
    {
      "cell_type": "code",
      "source": [
        "location_dimension"
      ],
      "metadata": {
        "id": "_4YwmQvpGt-1"
      },
      "id": "_4YwmQvpGt-1",
      "execution_count": null,
      "outputs": []
    },
    {
      "cell_type": "code",
      "source": [
        "uploaded = files.upload()"
      ],
      "metadata": {
        "id": "VskRq5YX5joc"
      },
      "id": "VskRq5YX5joc",
      "execution_count": null,
      "outputs": []
    },
    {
      "cell_type": "code",
      "execution_count": null,
      "id": "6eb70b2d",
      "metadata": {
        "id": "6eb70b2d"
      },
      "outputs": [],
      "source": [
        "version = pd.read_csv('version.csv')"
      ]
    },
    {
      "cell_type": "code",
      "execution_count": null,
      "id": "9a943354",
      "metadata": {
        "id": "9a943354"
      },
      "outputs": [],
      "source": [
        "version"
      ]
    },
    {
      "cell_type": "code",
      "execution_count": null,
      "id": "353d3459",
      "metadata": {
        "id": "353d3459"
      },
      "outputs": [],
      "source": [
        "version_fact = version[['version_id', 'date_id', 'map_id', 'role_id', 'task_id', 'update_detail']]"
      ]
    },
    {
      "cell_type": "markdown",
      "id": "5ffc49ea",
      "metadata": {
        "id": "5ffc49ea"
      },
      "source": [
        "### Transform Data"
      ]
    },
    {
      "cell_type": "code",
      "execution_count": null,
      "id": "ff121de8",
      "metadata": {
        "id": "ff121de8"
      },
      "outputs": [],
      "source": [
        "review_fact = review_fact.astype(str)\n",
        "review_fact = review_fact.to_records(index=False)"
      ]
    },
    {
      "cell_type": "code",
      "execution_count": null,
      "id": "bb65c2eb",
      "metadata": {
        "id": "bb65c2eb"
      },
      "outputs": [],
      "source": [
        "user_dimension = user_dimension.astype(str)\n",
        "user_dimension = user_dimension.to_records(index=False)"
      ]
    },
    {
      "cell_type": "code",
      "execution_count": null,
      "id": "071d1168",
      "metadata": {
        "id": "071d1168"
      },
      "outputs": [],
      "source": [
        "location_dimension = location_dimension.astype(str)\n",
        "location_dimension = location_dimension.to_records(index=False)"
      ]
    },
    {
      "cell_type": "code",
      "execution_count": null,
      "id": "669c8a81",
      "metadata": {
        "id": "669c8a81"
      },
      "outputs": [],
      "source": [
        "avatar_fact = avatar_fact.astype(str)\n",
        "avatar_fact = avatar_fact.to_records(index=False)"
      ]
    },
    {
      "cell_type": "code",
      "execution_count": null,
      "id": "74c5903e",
      "metadata": {
        "id": "74c5903e"
      },
      "outputs": [],
      "source": [
        "sessions_fact = sessions_fact.astype(str)\n",
        "sessions_fact = sessions_fact.to_records(index=False)"
      ]
    },
    {
      "cell_type": "code",
      "execution_count": null,
      "id": "3d9617ca",
      "metadata": {
        "id": "3d9617ca"
      },
      "outputs": [],
      "source": [
        "version_fact = version_fact.astype(str)\n",
        "version_fact = version_fact.to_records(index=False)"
      ]
    },
    {
      "cell_type": "markdown",
      "id": "7e2b8c4f",
      "metadata": {
        "id": "7e2b8c4f"
      },
      "source": [
        "### Data insertion"
      ]
    },
    {
      "cell_type": "code",
      "execution_count": null,
      "id": "9dae164d",
      "metadata": {
        "id": "9dae164d"
      },
      "outputs": [],
      "source": [
        "def insert_review(recordList):\n",
        "    insert_review_query = \"\"\" INSERT INTO review_fact\n",
        "    (user_id, date_id, review_platform, rating, review_details) VALUES (?, ?, ?, ?, ?)\"\"\"\n",
        "    cursor.executemany(insert_review_query, recordList)\n",
        "    conn.commit()\n",
        "    print('New data inserted successfully')"
      ]
    },
    {
      "cell_type": "code",
      "execution_count": null,
      "id": "bacf1c64",
      "metadata": {
        "id": "bacf1c64"
      },
      "outputs": [],
      "source": [
        "insert_review(review_fact)"
      ]
    },
    {
      "cell_type": "code",
      "execution_count": null,
      "id": "6b8f6b57",
      "metadata": {
        "id": "6b8f6b57"
      },
      "outputs": [],
      "source": [
        "def insert_user(recordList):\n",
        "    insert_user_query = \"\"\" INSERT INTO user_dimension\n",
        "    (user_id,username, device, level, location_id, language, login_method, email, joined_date_id) VALUES (?, ?, ?, ?, ?, ?, ?, ?, ?)\"\"\"\n",
        "    cursor.executemany(insert_user_query, recordList)\n",
        "    conn.commit()\n",
        "    print('New data inserted successfully')"
      ]
    },
    {
      "cell_type": "code",
      "execution_count": null,
      "id": "67cee2c7",
      "metadata": {
        "id": "67cee2c7"
      },
      "outputs": [],
      "source": [
        "insert_user(user_dimension)"
      ]
    },
    {
      "cell_type": "code",
      "execution_count": null,
      "id": "6cf73e61",
      "metadata": {
        "id": "6cf73e61"
      },
      "outputs": [],
      "source": [
        "def insert_location(recordList):\n",
        "    insert_location_query = \"\"\" INSERT INTO location_dimension\n",
        "    (location_id, country, region, city) VALUES (?, ?, ?, ?)\"\"\"\n",
        "    cursor.executemany(insert_location_query, recordList)\n",
        "    conn.commit()\n",
        "    print('New data inserted successfully')"
      ]
    },
    {
      "cell_type": "code",
      "execution_count": null,
      "id": "35810f0a",
      "metadata": {
        "id": "35810f0a"
      },
      "outputs": [],
      "source": [
        "insert_location(location_dimension)"
      ]
    },
    {
      "cell_type": "code",
      "execution_count": null,
      "id": "318bb779",
      "metadata": {
        "id": "318bb779"
      },
      "outputs": [],
      "source": [
        "def insert_avatar(recordList):\n",
        "    insert_avatar_query = \"\"\" INSERT INTO avatar_fact\n",
        "    (user_id, color_productid, hat_productid, pet_productid, skin_productid) VALUES (?, ?, ?, ?, ?)\"\"\"\n",
        "    cursor.executemany(insert_avatar_query, recordList)\n",
        "    conn.commit()\n",
        "    print('New data inserted successfully')"
      ]
    },
    {
      "cell_type": "code",
      "execution_count": null,
      "id": "1ee7af75",
      "metadata": {
        "id": "1ee7af75"
      },
      "outputs": [],
      "source": [
        "insert_avatar(avatar_fact)"
      ]
    },
    {
      "cell_type": "code",
      "execution_count": null,
      "id": "afd5a5b6",
      "metadata": {
        "id": "afd5a5b6"
      },
      "outputs": [],
      "source": [
        "def insert_sessions(recordList):\n",
        "    insert_sessions_query = \"\"\" INSERT INTO sessions_fact\n",
        "    (user_id, start_date_id, end_date_id) VALUES (?, ?, ?)\"\"\"\n",
        "    cursor.executemany(insert_sessions_query, recordList)\n",
        "    conn.commit()\n",
        "    print('New data inserted successfully')"
      ]
    },
    {
      "cell_type": "code",
      "execution_count": null,
      "id": "144c9955",
      "metadata": {
        "id": "144c9955"
      },
      "outputs": [],
      "source": [
        "insert_sessions(sessions_fact)"
      ]
    },
    {
      "cell_type": "code",
      "execution_count": null,
      "id": "2df53af9",
      "metadata": {
        "id": "2df53af9"
      },
      "outputs": [],
      "source": [
        "def insert_version(recordList):\n",
        "    insert_version_query = \"\"\" INSERT INTO version_fact\n",
        "    (version_id, date_id, map_id, role_id, task_id, update_detail) VALUES (?, ?, ?, ?, ?, ?)\"\"\"\n",
        "    cursor.executemany(insert_version_query, recordList)\n",
        "    conn.commit()\n",
        "    print('New data inserted successfully')"
      ]
    },
    {
      "cell_type": "code",
      "execution_count": null,
      "id": "6a8c1afc",
      "metadata": {
        "id": "6a8c1afc"
      },
      "outputs": [],
      "source": [
        "insert_version(version_fact)"
      ]
    },
    {
      "cell_type": "markdown",
      "source": [
        "# Analysis"
      ],
      "metadata": {
        "id": "b1WCxGq3KOZQ"
      },
      "id": "b1WCxGq3KOZQ"
    },
    {
      "cell_type": "markdown",
      "source": [
        "**Task Popularity Analysis**"
      ],
      "metadata": {
        "id": "2-Yv7Hrs7Cnj"
      },
      "id": "2-Yv7Hrs7Cnj"
    },
    {
      "cell_type": "code",
      "source": [
        "uploaded = files.upload()"
      ],
      "metadata": {
        "id": "Eh1dRQkVK8az"
      },
      "id": "Eh1dRQkVK8az",
      "execution_count": null,
      "outputs": []
    },
    {
      "cell_type": "code",
      "source": [
        "# Load the game_history CSV file\n",
        "game_history = pd.read_csv('game_history.csv')\n",
        "\n",
        "# Display basic information about the dataset\n",
        "print(game_history.info())\n"
      ],
      "metadata": {
        "id": "MPxBJ-7r6wUz"
      },
      "id": "MPxBJ-7r6wUz",
      "execution_count": null,
      "outputs": []
    },
    {
      "cell_type": "code",
      "source": [
        "# Display basic statistics about numerical columns\n",
        "print(game_history.describe())"
      ],
      "metadata": {
        "id": "yDA9rSC9J6qX"
      },
      "id": "yDA9rSC9J6qX",
      "execution_count": null,
      "outputs": []
    },
    {
      "cell_type": "code",
      "source": [
        "# Check for missing values\n",
        "print(game_history.isnull().sum())"
      ],
      "metadata": {
        "id": "18XxGfS7LaAz"
      },
      "id": "18XxGfS7LaAz",
      "execution_count": null,
      "outputs": []
    },
    {
      "cell_type": "code",
      "source": [
        "# Analyze task popularity\n",
        "task_popularity = game_history['task_name'].value_counts()\n",
        "print(\"Task Popularity:\")\n",
        "print(task_popularity)"
      ],
      "metadata": {
        "id": "RCKw8pwXLfCd"
      },
      "id": "RCKw8pwXLfCd",
      "execution_count": null,
      "outputs": []
    },
    {
      "cell_type": "code",
      "source": [
        "# Visualize task popularity\n",
        "plt.figure(figsize=(12, 6))\n",
        "sns.countplot(x='task_name', data=game_history, order=game_history['task_name'].value_counts().index)\n",
        "plt.title('Task Popularity')\n",
        "plt.xlabel('Task Name')\n",
        "plt.ylabel('Count')\n",
        "plt.xticks(rotation=45)\n",
        "plt.show()"
      ],
      "metadata": {
        "id": "4hqgxtktLk8y"
      },
      "id": "4hqgxtktLk8y",
      "execution_count": null,
      "outputs": []
    },
    {
      "cell_type": "markdown",
      "source": [
        "**Map Popularity Analyze**"
      ],
      "metadata": {
        "id": "ILW9Pyw6Mn_F"
      },
      "id": "ILW9Pyw6Mn_F"
    },
    {
      "cell_type": "code",
      "source": [
        "map_popularity = game_history['map_name'].value_counts()\n",
        "print(\"Map Popularity:\")\n",
        "print(map_popularity)\n"
      ],
      "metadata": {
        "id": "CowqeLkSLsw3"
      },
      "id": "CowqeLkSLsw3",
      "execution_count": null,
      "outputs": []
    },
    {
      "cell_type": "code",
      "source": [
        "# Visualize map popularity\n",
        "plt.figure(figsize=(10, 6))\n",
        "sns.countplot(x='map_name', data=game_history, order=game_history['map_name'].value_counts().index)\n",
        "plt.title('Map Popularity')\n",
        "plt.xlabel('Map Name')\n",
        "plt.ylabel('Count')\n",
        "plt.xticks(rotation=45)\n",
        "plt.show()"
      ],
      "metadata": {
        "id": "O5CLHTg-LuFo"
      },
      "id": "O5CLHTg-LuFo",
      "execution_count": null,
      "outputs": []
    },
    {
      "cell_type": "markdown",
      "source": [
        "**Recommendations based on map and task popularity**"
      ],
      "metadata": {
        "id": "JTULA8DeMuYG"
      },
      "id": "JTULA8DeMuYG"
    },
    {
      "cell_type": "code",
      "source": [
        "map_popularity = pd.Series({'summer': 8, 'tree': 7, 'stonewall': 5, 'snowroom': 5, 'rose': 4, 'candyhouse': 4,'mira hq': 3, 'bloody': 3, 'the skeld': 2})\n",
        "task_popularity = pd.Series({'fix wiring': 9, 'swipe card': 8, 'pin': 7, 'password': 7, 'doorlock': 5, 'matrix fix': 5})"
      ],
      "metadata": {
        "id": "D4pgZdHYO1Bo"
      },
      "id": "D4pgZdHYO1Bo",
      "execution_count": null,
      "outputs": []
    },
    {
      "cell_type": "code",
      "source": [
        "# Define weights for map and task popularity\n",
        "map_weight = 0.5\n",
        "task_weight = 0.5"
      ],
      "metadata": {
        "id": "MfTf1fQLQHry"
      },
      "id": "MfTf1fQLQHry",
      "execution_count": null,
      "outputs": []
    },
    {
      "cell_type": "code",
      "source": [
        "# Calculate the combined score for each map and task\n",
        "map_scores = map_popularity * map_weight\n",
        "task_scores = task_popularity * task_weight"
      ],
      "metadata": {
        "id": "QIPdRnUCQJ5x"
      },
      "id": "QIPdRnUCQJ5x",
      "execution_count": null,
      "outputs": []
    },
    {
      "cell_type": "code",
      "source": [
        "# Combine the scores into a recommendation score\n",
        "recommendation_scores = map_scores.add(task_scores, fill_value=0)"
      ],
      "metadata": {
        "id": "1UNQOZEMQL9p"
      },
      "id": "1UNQOZEMQL9p",
      "execution_count": null,
      "outputs": []
    },
    {
      "cell_type": "code",
      "source": [
        "# Sort the recommendations by score in descending order\n",
        "recommendations = recommendation_scores.sort_values(ascending=False)"
      ],
      "metadata": {
        "id": "WkODvDApQO0T"
      },
      "id": "WkODvDApQO0T",
      "execution_count": null,
      "outputs": []
    },
    {
      "cell_type": "code",
      "source": [
        "# Display the recommendations\n",
        "print(\"Combined Recommendations:\")\n",
        "print(recommendations)"
      ],
      "metadata": {
        "id": "a_k-gcSaQR0w"
      },
      "id": "a_k-gcSaQR0w",
      "execution_count": null,
      "outputs": []
    },
    {
      "cell_type": "markdown",
      "source": [
        "**Insights:**\n",
        "\n",
        "\"fix wiring\" has the highest score, making it the most recommended task in this list.\n",
        "Users or players may find it valuable to focus on the top-recommended tasks, as these are deemed more popular within the given weighting scheme."
      ],
      "metadata": {
        "id": "vya7yItTRy8E"
      },
      "id": "vya7yItTRy8E"
    },
    {
      "cell_type": "code",
      "source": [
        "uploaded = files.upload()"
      ],
      "metadata": {
        "id": "Rx8YflUYTF61"
      },
      "id": "Rx8YflUYTF61",
      "execution_count": null,
      "outputs": []
    },
    {
      "cell_type": "code",
      "source": [
        "# Load the transaction data\n",
        "transaction_data = pd.read_csv('transaction.csv')"
      ],
      "metadata": {
        "id": "--aB0fz0TQ2O"
      },
      "id": "--aB0fz0TQ2O",
      "execution_count": null,
      "outputs": []
    },
    {
      "cell_type": "code",
      "source": [
        "# Display basic information about the transaction data\n",
        "print(transaction_data.info())"
      ],
      "metadata": {
        "id": "zaEWkA5cTUFR"
      },
      "id": "zaEWkA5cTUFR",
      "execution_count": null,
      "outputs": []
    },
    {
      "cell_type": "markdown",
      "source": [
        "**Total Revenue by Currency**"
      ],
      "metadata": {
        "id": "U3zKaZpGMsg7"
      },
      "id": "U3zKaZpGMsg7"
    },
    {
      "cell_type": "code",
      "source": [
        "# Calculate total revenue for each currency\n",
        "total_revenue_by_currency = transaction_data.groupby('currency')['price_usd'].sum()\n",
        "print(\"Total Revenue by Currency:\\n\", total_revenue_by_currency)"
      ],
      "metadata": {
        "id": "MC4CMbzhTVGe"
      },
      "id": "MC4CMbzhTVGe",
      "execution_count": null,
      "outputs": []
    },
    {
      "cell_type": "markdown",
      "source": [
        "**Transaction Count by Product Type**"
      ],
      "metadata": {
        "id": "JEGYz_sMM9ot"
      },
      "id": "JEGYz_sMM9ot"
    },
    {
      "cell_type": "code",
      "source": [
        "# Count transactions for each product type\n",
        "product_type_counts = transaction_data['producttype'].value_counts()\n",
        "print(\"Transaction Count by Product Type:\\n\", product_type_counts)"
      ],
      "metadata": {
        "id": "3aF4q06STZNR"
      },
      "id": "3aF4q06STZNR",
      "execution_count": null,
      "outputs": []
    },
    {
      "cell_type": "markdown",
      "source": [
        "**Payment Type Distribution**"
      ],
      "metadata": {
        "id": "gPGLMdcbNqxD"
      },
      "id": "gPGLMdcbNqxD"
    },
    {
      "cell_type": "code",
      "source": [
        "# Visualize the distribution of payment types\n",
        "payment_type_distribution = transaction_data['payment_type'].value_counts()\n",
        "payment_type_distribution.plot(kind='bar', title='Payment Type Distribution')\n",
        "plt.show()"
      ],
      "metadata": {
        "id": "70lr7yWKNI1z"
      },
      "id": "70lr7yWKNI1z",
      "execution_count": null,
      "outputs": []
    },
    {
      "cell_type": "markdown",
      "source": [
        "# Recommendation for next promotion"
      ],
      "metadata": {
        "id": "jFDomx1uPOeu"
      },
      "id": "jFDomx1uPOeu"
    },
    {
      "cell_type": "markdown",
      "source": [
        "**Promotion Theme: \"Summer Adventure Special\"**\n",
        "\n",
        "**Promotion Details:**\n",
        "\n",
        "Discounts for Apple Pay Users:\n",
        "> Encourage players to use Apple Pay as their payment method by offering exclusive discounts or bonuses for transactions made with Apple Pay.\n",
        "\n",
        "Hat Bonanza:\n",
        "> Highlight and promote products in the \"hat\" category, possibly offering special in-game items, skins, or discounts for players who purchase hats during the promotional period.\n",
        "\n",
        "HKD Currency Special:\n",
        "> Promote special in-game offers for players using the HKD currency. This could include exclusive items, bundles, or discounts tailored for users who make transactions in Hong Kong Dollars.\n",
        "\n",
        "\"Fix Wiring\" Challenge:\n",
        "> Create a special in-game challenge or event related to the \"fix wiring\" task, with rewards and bonuses for players who successfully complete the task during the promotional period.\n",
        "\n",
        "Summer Map and Tree Decorations:\n",
        "> Emphasize the popularity of the \"summer\" map and the \"tree\" element. Consider introducing limited-time decorations, themes, or events related to summer and trees within the game.\n",
        "\n",
        "Task Popularity Rewards:\n",
        "> Highlight the popularity of tasks such as \"fix wiring\" and \"swipe card.\" Offer rewards, bonuses, or exclusive in-game items for players who complete these tasks during the promotion.\n",
        "\n",
        "**Promotion Messaging:**\n",
        "\n",
        "1. \"Master the 'Fix Wiring' Challenge – Earn Big Rewards!\"\n",
        "2. \"Celebrate Summer with New Map Decorations!\"\n",
        "3. \"Collect Rare Hats – Limited-Time Offer!\""
      ],
      "metadata": {
        "id": "J9M6WkCSPUqj"
      },
      "id": "J9M6WkCSPUqj"
    }
  ],
  "metadata": {
    "colab": {
      "provenance": []
    },
    "kernelspec": {
      "display_name": "Python 3 (ipykernel)",
      "language": "python",
      "name": "python3"
    },
    "language_info": {
      "codemirror_mode": {
        "name": "ipython",
        "version": 3
      },
      "file_extension": ".py",
      "mimetype": "text/x-python",
      "name": "python",
      "nbconvert_exporter": "python",
      "pygments_lexer": "ipython3",
      "version": "3.9.12"
    },
    "vscode": {
      "interpreter": {
        "hash": "91374e123bc7a669bba28903b5f5e560cc8212b9f306bb4dd4f196a0aa71a4e7"
      }
    }
  },
  "nbformat": 4,
  "nbformat_minor": 5
}